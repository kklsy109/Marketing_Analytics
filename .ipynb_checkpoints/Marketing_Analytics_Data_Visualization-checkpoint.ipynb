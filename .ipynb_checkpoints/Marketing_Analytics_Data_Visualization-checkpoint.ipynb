{
 "cells": [
  {
   "cell_type": "markdown",
   "id": "01222f27",
   "metadata": {},
   "source": [
    "<font size=4 >First load the required libraries.</font>"
   ]
  },
  {
   "cell_type": "code",
   "execution_count": 31,
   "id": "866a56c2",
   "metadata": {},
   "outputs": [],
   "source": [
    "import numpy as np\n",
    "import pandas as pd\n",
    "import matplotlib.pyplot as plt\n",
    "import seaborn as sns\n",
    "%matplotlib inline\n",
    "\n",
    "# turn off warnings for final notebook\n",
    "import warnings\n",
    "warnings.filterwarnings('ignore')"
   ]
  },
  {
   "cell_type": "code",
   "execution_count": 32,
   "id": "09878ed5",
   "metadata": {},
   "outputs": [],
   "source": [
    "# Read Data form local file path\n",
    "marketing_feature_df = pd.read_csv(\"marketing_feature_df.csv\")"
   ]
  },
  {
   "cell_type": "code",
   "execution_count": 33,
   "id": "6f81c48c",
   "metadata": {},
   "outputs": [
    {
     "name": "stdout",
     "output_type": "stream",
     "text": [
      "<class 'pandas.core.frame.DataFrame'>\n",
      "RangeIndex: 2237 entries, 0 to 2236\n",
      "Data columns (total 33 columns):\n",
      " #   Column               Non-Null Count  Dtype  \n",
      "---  ------               --------------  -----  \n",
      " 0   ID                   2237 non-null   int64  \n",
      " 1   Year_Birth           2237 non-null   int64  \n",
      " 2   Education            2237 non-null   object \n",
      " 3   Marital_Status       2237 non-null   object \n",
      " 4   Income               2237 non-null   float64\n",
      " 5   Kidhome              2237 non-null   int64  \n",
      " 6   Teenhome             2237 non-null   int64  \n",
      " 7   Dt_Customer          2237 non-null   object \n",
      " 8   Recency              2237 non-null   int64  \n",
      " 9   MntWines             2237 non-null   int64  \n",
      " 10  MntFruits            2237 non-null   int64  \n",
      " 11  MntMeatProducts      2237 non-null   int64  \n",
      " 12  MntFishProducts      2237 non-null   int64  \n",
      " 13  MntSweetProducts     2237 non-null   int64  \n",
      " 14  MntGoldProds         2237 non-null   int64  \n",
      " 15  NumDealsPurchases    2237 non-null   int64  \n",
      " 16  NumWebPurchases      2237 non-null   int64  \n",
      " 17  NumCatalogPurchases  2237 non-null   int64  \n",
      " 18  NumStorePurchases    2237 non-null   int64  \n",
      " 19  NumWebVisitsMonth    2237 non-null   int64  \n",
      " 20  AcceptedCmp3         2237 non-null   int64  \n",
      " 21  AcceptedCmp4         2237 non-null   int64  \n",
      " 22  AcceptedCmp5         2237 non-null   int64  \n",
      " 23  AcceptedCmp1         2237 non-null   int64  \n",
      " 24  AcceptedCmp2         2237 non-null   int64  \n",
      " 25  Response             2237 non-null   int64  \n",
      " 26  Complain             2237 non-null   int64  \n",
      " 27  Country              2237 non-null   object \n",
      " 28  Children_number      2237 non-null   int64  \n",
      " 29  Customer_Year        2237 non-null   int64  \n",
      " 30  Total_Mnt            2237 non-null   int64  \n",
      " 31  Total_Purchases      2237 non-null   int64  \n",
      " 32  Total_Campaigns      2237 non-null   int64  \n",
      "dtypes: float64(1), int64(28), object(4)\n",
      "memory usage: 576.9+ KB\n"
     ]
    }
   ],
   "source": [
    "# View database column types\n",
    "marketing_feature_df.info(verbose=True)"
   ]
  },
  {
   "cell_type": "code",
   "execution_count": 34,
   "id": "f38595e5",
   "metadata": {},
   "outputs": [
    {
     "data": {
      "text/html": [
       "<div>\n",
       "<style scoped>\n",
       "    .dataframe tbody tr th:only-of-type {\n",
       "        vertical-align: middle;\n",
       "    }\n",
       "\n",
       "    .dataframe tbody tr th {\n",
       "        vertical-align: top;\n",
       "    }\n",
       "\n",
       "    .dataframe thead th {\n",
       "        text-align: right;\n",
       "    }\n",
       "</style>\n",
       "<table border=\"1\" class=\"dataframe\">\n",
       "  <thead>\n",
       "    <tr style=\"text-align: right;\">\n",
       "      <th></th>\n",
       "      <th>ID</th>\n",
       "      <th>Year_Birth</th>\n",
       "      <th>Education</th>\n",
       "      <th>Marital_Status</th>\n",
       "      <th>Income</th>\n",
       "      <th>Kidhome</th>\n",
       "      <th>Teenhome</th>\n",
       "      <th>Dt_Customer</th>\n",
       "      <th>Recency</th>\n",
       "      <th>MntWines</th>\n",
       "      <th>...</th>\n",
       "      <th>AcceptedCmp1</th>\n",
       "      <th>AcceptedCmp2</th>\n",
       "      <th>Response</th>\n",
       "      <th>Complain</th>\n",
       "      <th>Country</th>\n",
       "      <th>Children_number</th>\n",
       "      <th>Customer_Year</th>\n",
       "      <th>Total_Mnt</th>\n",
       "      <th>Total_Purchases</th>\n",
       "      <th>Total_Campaigns</th>\n",
       "    </tr>\n",
       "  </thead>\n",
       "  <tbody>\n",
       "    <tr>\n",
       "      <th>0</th>\n",
       "      <td>1826</td>\n",
       "      <td>1970</td>\n",
       "      <td>Graduation</td>\n",
       "      <td>Divorced</td>\n",
       "      <td>84835.0</td>\n",
       "      <td>0</td>\n",
       "      <td>0</td>\n",
       "      <td>2014-06-16</td>\n",
       "      <td>0</td>\n",
       "      <td>189</td>\n",
       "      <td>...</td>\n",
       "      <td>0</td>\n",
       "      <td>0</td>\n",
       "      <td>1</td>\n",
       "      <td>0</td>\n",
       "      <td>SP</td>\n",
       "      <td>0</td>\n",
       "      <td>2014</td>\n",
       "      <td>1190</td>\n",
       "      <td>15</td>\n",
       "      <td>1</td>\n",
       "    </tr>\n",
       "    <tr>\n",
       "      <th>1</th>\n",
       "      <td>1</td>\n",
       "      <td>1961</td>\n",
       "      <td>Graduation</td>\n",
       "      <td>Single</td>\n",
       "      <td>57091.0</td>\n",
       "      <td>0</td>\n",
       "      <td>0</td>\n",
       "      <td>2014-06-15</td>\n",
       "      <td>0</td>\n",
       "      <td>464</td>\n",
       "      <td>...</td>\n",
       "      <td>0</td>\n",
       "      <td>1</td>\n",
       "      <td>1</td>\n",
       "      <td>0</td>\n",
       "      <td>CA</td>\n",
       "      <td>0</td>\n",
       "      <td>2014</td>\n",
       "      <td>577</td>\n",
       "      <td>18</td>\n",
       "      <td>2</td>\n",
       "    </tr>\n",
       "    <tr>\n",
       "      <th>2</th>\n",
       "      <td>10476</td>\n",
       "      <td>1958</td>\n",
       "      <td>Graduation</td>\n",
       "      <td>Married</td>\n",
       "      <td>67267.0</td>\n",
       "      <td>0</td>\n",
       "      <td>1</td>\n",
       "      <td>2014-05-13</td>\n",
       "      <td>0</td>\n",
       "      <td>134</td>\n",
       "      <td>...</td>\n",
       "      <td>0</td>\n",
       "      <td>0</td>\n",
       "      <td>0</td>\n",
       "      <td>0</td>\n",
       "      <td>US</td>\n",
       "      <td>1</td>\n",
       "      <td>2014</td>\n",
       "      <td>251</td>\n",
       "      <td>11</td>\n",
       "      <td>0</td>\n",
       "    </tr>\n",
       "    <tr>\n",
       "      <th>3</th>\n",
       "      <td>1386</td>\n",
       "      <td>1967</td>\n",
       "      <td>Graduation</td>\n",
       "      <td>Together</td>\n",
       "      <td>32474.0</td>\n",
       "      <td>1</td>\n",
       "      <td>1</td>\n",
       "      <td>2014-05-11</td>\n",
       "      <td>0</td>\n",
       "      <td>10</td>\n",
       "      <td>...</td>\n",
       "      <td>0</td>\n",
       "      <td>0</td>\n",
       "      <td>0</td>\n",
       "      <td>0</td>\n",
       "      <td>AUS</td>\n",
       "      <td>2</td>\n",
       "      <td>2014</td>\n",
       "      <td>11</td>\n",
       "      <td>4</td>\n",
       "      <td>0</td>\n",
       "    </tr>\n",
       "    <tr>\n",
       "      <th>4</th>\n",
       "      <td>5371</td>\n",
       "      <td>1989</td>\n",
       "      <td>Graduation</td>\n",
       "      <td>Single</td>\n",
       "      <td>21474.0</td>\n",
       "      <td>1</td>\n",
       "      <td>0</td>\n",
       "      <td>2014-04-08</td>\n",
       "      <td>0</td>\n",
       "      <td>6</td>\n",
       "      <td>...</td>\n",
       "      <td>0</td>\n",
       "      <td>0</td>\n",
       "      <td>1</td>\n",
       "      <td>0</td>\n",
       "      <td>SP</td>\n",
       "      <td>1</td>\n",
       "      <td>2014</td>\n",
       "      <td>91</td>\n",
       "      <td>8</td>\n",
       "      <td>2</td>\n",
       "    </tr>\n",
       "  </tbody>\n",
       "</table>\n",
       "<p>5 rows × 33 columns</p>\n",
       "</div>"
      ],
      "text/plain": [
       "      ID  Year_Birth   Education Marital_Status   Income  Kidhome  Teenhome  \\\n",
       "0   1826        1970  Graduation       Divorced  84835.0        0         0   \n",
       "1      1        1961  Graduation         Single  57091.0        0         0   \n",
       "2  10476        1958  Graduation        Married  67267.0        0         1   \n",
       "3   1386        1967  Graduation       Together  32474.0        1         1   \n",
       "4   5371        1989  Graduation         Single  21474.0        1         0   \n",
       "\n",
       "  Dt_Customer  Recency  MntWines  ...  AcceptedCmp1  AcceptedCmp2  Response  \\\n",
       "0  2014-06-16        0       189  ...             0             0         1   \n",
       "1  2014-06-15        0       464  ...             0             1         1   \n",
       "2  2014-05-13        0       134  ...             0             0         0   \n",
       "3  2014-05-11        0        10  ...             0             0         0   \n",
       "4  2014-04-08        0         6  ...             0             0         1   \n",
       "\n",
       "   Complain  Country  Children_number  Customer_Year  Total_Mnt  \\\n",
       "0         0       SP                0           2014       1190   \n",
       "1         0       CA                0           2014        577   \n",
       "2         0       US                1           2014        251   \n",
       "3         0      AUS                2           2014         11   \n",
       "4         0       SP                1           2014         91   \n",
       "\n",
       "   Total_Purchases  Total_Campaigns  \n",
       "0               15                1  \n",
       "1               18                2  \n",
       "2               11                0  \n",
       "3                4                0  \n",
       "4                8                2  \n",
       "\n",
       "[5 rows x 33 columns]"
      ]
     },
     "execution_count": 34,
     "metadata": {},
     "output_type": "execute_result"
    }
   ],
   "source": [
    "# Display the first five rows \n",
    "marketing_feature_df.head()"
   ]
  },
  {
   "cell_type": "markdown",
   "id": "431c6113",
   "metadata": {},
   "source": [
    "4.Data Visualization\n",
    "==="
   ]
  },
  {
   "cell_type": "markdown",
   "id": "e24ea120",
   "metadata": {},
   "source": [
    "4.1 Campaign acceptance\n",
    "---"
   ]
  },
  {
   "cell_type": "markdown",
   "id": "626821b0",
   "metadata": {},
   "source": [
    "<font size=4 >In this section, I will plot the overall acceptance rate of the campaign and analyze which type of activity is most easily accepted by customers.</font>"
   ]
  },
  {
   "cell_type": "code",
   "execution_count": 35,
   "id": "04132d33",
   "metadata": {},
   "outputs": [
    {
     "data": {
      "image/png": "[encoded data removed]",
      "text/plain": [
       "<Figure size 640x480 with 1 Axes>"
      ]
     },
     "metadata": {},
     "output_type": "display_data"
    }
   ],
   "source": [
    "# calculate success rate \n",
    "cam_success = pd.DataFrame(marketing_feature_df[['AcceptedCmp1', 'AcceptedCmp2', 'AcceptedCmp3', 'AcceptedCmp4', 'AcceptedCmp5', 'Response']].mean()*100, \n",
    "                           columns=['Percent']).reset_index()\n",
    "\n",
    "# plot\n",
    "sns.barplot(x='Percent', y='index', data=cam_success.sort_values('Percent'), palette='magma')\n",
    "plt.xlabel('Accepted (%)')\n",
    "plt.ylabel('Campaign')\n",
    "plt.title('Marketing campaign success rate', size=16);"
   ]
  },
  {
   "cell_type": "markdown",
   "id": "6e02389f",
   "metadata": {},
   "source": [
    "<font size=4 >response has the highest customer acceptance.</font>"
   ]
  },
  {
   "cell_type": "markdown",
   "id": "fc1dd520",
   "metadata": {},
   "source": [
    "4.2 Average Characteristics of Customers\n",
    "---"
   ]
  },
  {
   "cell_type": "markdown",
   "id": "1a51c908",
   "metadata": {},
   "source": [
    "<font size=4 >Filter out unwanted columns first.</font>"
   ]
  },
  {
   "cell_type": "code",
   "execution_count": 36,
   "id": "2ee4346a",
   "metadata": {},
   "outputs": [],
   "source": [
    "# list of cols with binary responses\n",
    "binary_cols = [col for col in marketing_feature_df.columns if 'Accepted' in col] + ['Response', 'Complain']\n",
    "\n",
    "# list of cols for spending \n",
    "mnt_cols = [col for col in marketing_feature_df.columns if 'Mnt' in col]\n",
    "\n",
    "# list of cols for channels\n",
    "channel_cols = [col for col in marketing_feature_df.columns if 'Num' in col] + ['Total_Purchases', 'Total_Campaigns']"
   ]
  },
  {
   "cell_type": "code",
   "execution_count": 37,
   "id": "6aa68e41",
   "metadata": {},
   "outputs": [
    {
     "data": {
      "text/html": [
       "<div>\n",
       "<style scoped>\n",
       "    .dataframe tbody tr th:only-of-type {\n",
       "        vertical-align: middle;\n",
       "    }\n",
       "\n",
       "    .dataframe tbody tr th {\n",
       "        vertical-align: top;\n",
       "    }\n",
       "\n",
       "    .dataframe thead th {\n",
       "        text-align: right;\n",
       "    }\n",
       "</style>\n",
       "<table border=\"1\" class=\"dataframe\">\n",
       "  <thead>\n",
       "    <tr style=\"text-align: right;\">\n",
       "      <th></th>\n",
       "      <th>Average</th>\n",
       "    </tr>\n",
       "  </thead>\n",
       "  <tbody>\n",
       "    <tr>\n",
       "      <th>Year_Birth</th>\n",
       "      <td>1968.9</td>\n",
       "    </tr>\n",
       "    <tr>\n",
       "      <th>Customer_Year</th>\n",
       "      <td>2013.0</td>\n",
       "    </tr>\n",
       "    <tr>\n",
       "      <th>Income</th>\n",
       "      <td>52227.4</td>\n",
       "    </tr>\n",
       "    <tr>\n",
       "      <th>Children_number</th>\n",
       "      <td>1.0</td>\n",
       "    </tr>\n",
       "    <tr>\n",
       "      <th>Kidhome</th>\n",
       "      <td>0.4</td>\n",
       "    </tr>\n",
       "    <tr>\n",
       "      <th>Teenhome</th>\n",
       "      <td>0.5</td>\n",
       "    </tr>\n",
       "    <tr>\n",
       "      <th>Recency</th>\n",
       "      <td>49.1</td>\n",
       "    </tr>\n",
       "  </tbody>\n",
       "</table>\n",
       "</div>"
      ],
      "text/plain": [
       "                 Average\n",
       "Year_Birth        1968.9\n",
       "Customer_Year     2013.0\n",
       "Income           52227.4\n",
       "Children_number      1.0\n",
       "Kidhome              0.4\n",
       "Teenhome             0.5\n",
       "Recency             49.1"
      ]
     },
     "execution_count": 37,
     "metadata": {},
     "output_type": "execute_result"
    }
   ],
   "source": [
    "# average customer demographics\n",
    "demographics = pd.DataFrame(round(marketing_feature_df.drop(columns=binary_cols+mnt_cols+channel_cols).mean(), 1), columns=['Average']).reindex([\n",
    "    'Year_Birth', 'Customer_Year', 'Income', 'Children_number', 'Kidhome', 'Teenhome', 'Recency'])\n",
    "\n",
    "demographics"
   ]
  },
  {
   "cell_type": "markdown",
   "id": "b7fcb2b4",
   "metadata": {},
   "source": [
    "4.3 Most Popular Product\n",
    "---"
   ]
  },
  {
   "cell_type": "code",
   "execution_count": 38,
   "id": "c59216e0",
   "metadata": {},
   "outputs": [
    {
     "data": {
      "image/png": "[encoded data removed]",
      "text/plain": [
       "<Figure size 640x480 with 1 Axes>"
      ]
     },
     "metadata": {},
     "output_type": "display_data"
    }
   ],
   "source": [
    "spending = pd.DataFrame(round(marketing_feature_df[mnt_cols].mean(), 1), columns=['Average']).sort_values(by='Average').reset_index()\n",
    "\n",
    "# plot\n",
    "ax = sns.barplot(x='Average', y='index', data=spending, palette='magma')\n",
    "plt.ylabel('Amount')\n",
    "\n",
    "## add text labels for each bar's value\n",
    "for p,q in zip(ax.patches, spending['Average']):\n",
    "    ax.text(x=q+40,\n",
    "            y=p.get_y()+0.5,\n",
    "            s=q,\n",
    "            ha=\"center\") ;"
   ]
  },
  {
   "cell_type": "markdown",
   "id": "1a6e063a",
   "metadata": {},
   "source": [
    "<font size=4 >It can be seen that the most popular products are wines and meat.</font>"
   ]
  },
  {
   "cell_type": "markdown",
   "id": "9948b29a",
   "metadata": {},
   "source": [
    "4.4 Acceptance by different channels\n",
    "---"
   ]
  },
  {
   "cell_type": "code",
   "execution_count": 39,
   "id": "cd5c34f5",
   "metadata": {},
   "outputs": [
    {
     "data": {
      "image/png": "[encoded data removed]",
      "text/plain": [
       "<Figure size 640x480 with 1 Axes>"
      ]
     },
     "metadata": {},
     "output_type": "display_data"
    }
   ],
   "source": [
    "channels = pd.DataFrame(round(marketing_feature_df[channel_cols].mean(), 1), columns=['Average']).sort_values(by='Average').reset_index()\n",
    "\n",
    "# plot\n",
    "ax = sns.barplot(x='Average', y='index', data=channels, palette='magma')\n",
    "plt.ylabel('Number')\n",
    "\n",
    "## add text labels for each bar's value\n",
    "for p,q in zip(ax.patches, channels['Average']):\n",
    "    ax.text(x=q+0.8,\n",
    "            y=p.get_y()+0.5,\n",
    "            s=q,\n",
    "            ha=\"center\") ;"
   ]
  },
  {
   "cell_type": "markdown",
   "id": "aeac3ed8",
   "metadata": {},
   "source": [
    "<font size=4 >It can be observed that the acceptance level is higher for stores and web pages, while the worst is for advertising campaigns and DealsPurchases.</font>"
   ]
  },
  {
   "cell_type": "markdown",
   "id": "f534c40f",
   "metadata": {},
   "source": [
    "<font size=4 >Marketing Recommendations:</font>\n",
    "\n",
    "<font size=4 >1.The most successful campaign was the recent 'Response' campaign, with the highest acceptance rate in the Mexican region.</font>\n",
    "\n",
    "<font size=4 >2.The acceptance of advertising campaigns shows a positive correlation with income and a negative correlation with the number of children.</font>\n",
    "\n",
    "<font size=4 >3.The best-selling products are wines and meat.</font>\n",
    "\n",
    "<font size=4 >4.WebPurchases and StorePurchases are preferable channels for purchases.</font>\n",
    "\n",
    "<font size=4 >5.DealsPurchases and CatalogPurchases are less effective channels for purchases.</font>"
   ]
  },
  {
   "cell_type": "code",
   "execution_count": null,
   "id": "4b558bf3",
   "metadata": {},
   "outputs": [],
   "source": []
  }
 ],
 "metadata": {
  "kernelspec": {
   "display_name": "Python 3 (ipykernel)",
   "language": "python",
   "name": "python3"
  },
  "language_info": {
   "codemirror_mode": {
    "name": "ipython",
    "version": 3
   },
   "file_extension": ".py",
   "mimetype": "text/x-python",
   "name": "python",
   "nbconvert_exporter": "python",
   "pygments_lexer": "ipython3",
   "version": "3.8.16"
  }
 },
 "nbformat": 4,
 "nbformat_minor": 5
}
